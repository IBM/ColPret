{
 "cells": [
  {
   "cell_type": "code",
   "execution_count": null,
   "metadata": {},
   "outputs": [],
   "source": [
    "import pickle\n",
    "\n",
    "with open('ppls.pkl', 'rb') as f:\n",
    "    ppls = pickle.load(f)\n",
    "\n",
    "with open('ratios.pkl', 'rb') as f:\n",
    "    ratios = pickle.load(f)"
   ]
  },
  {
   "cell_type": "code",
   "execution_count": null,
   "metadata": {},
   "outputs": [],
   "source": [
    "import numpy as np\n",
    "from scipy.optimize import curve_fit"
   ]
  },
  {
   "cell_type": "code",
   "execution_count": null,
   "metadata": {},
   "outputs": [],
   "source": [
    "seen = ['SE', 'JE', 'CE', 'VNE']\n",
    "\n",
    "def func(X, A, B, C, a, b):\n",
    "    s, r = X\n",
    "    return (A / s**a + C) * B / r**b\n",
    "    \n",
    "def fit(domain):\n",
    "    sd = list(range(1, 21, 1))\n",
    "    rd = [ratios[name][domain] for name in seen]\n",
    "    \n",
    "    x_s = np.tile(sd, len(rd))\n",
    "    x_r = np.repeat(rd, len(sd))\n",
    "    y = np.concatenate([ppls[name][domain] for name in seen])\n",
    "\n",
    "    popt, pcov = curve_fit(func, xdata=(x_s, x_r), ydata=y)\n",
    "    print(domain, popt)"
   ]
  },
  {
   "cell_type": "code",
   "execution_count": null,
   "metadata": {},
   "outputs": [],
   "source": [
    "fit('Github')"
   ]
  }
 ],
 "metadata": {
  "kernelspec": {
   "display_name": "doremi-cu121",
   "language": "python",
   "name": "python3"
  },
  "language_info": {
   "codemirror_mode": {
    "name": "ipython",
    "version": 3
   },
   "file_extension": ".py",
   "mimetype": "text/x-python",
   "name": "python",
   "nbconvert_exporter": "python",
   "pygments_lexer": "ipython3",
   "version": "3.11.4"
  }
 },
 "nbformat": 4,
 "nbformat_minor": 2
}
